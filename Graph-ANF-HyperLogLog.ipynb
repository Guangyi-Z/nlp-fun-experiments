{
 "cells": [
  {
   "cell_type": "code",
   "execution_count": 1,
   "metadata": {
    "collapsed": true
   },
   "outputs": [],
   "source": [
    "import igraph as g\n",
    "from HLL import HyperLogLog\n",
    "import numpy as np"
   ]
  },
  {
   "cell_type": "code",
   "execution_count": 2,
   "metadata": {
    "collapsed": true
   },
   "outputs": [],
   "source": [
    "def getLcc(filename, isDirected=True):\n",
    "    data = g.Graph.Read_Ncol(filename, isDirected)\n",
    "    if (isDirected):\n",
    "        clust = data.clusters(mode='strong')\n",
    "    else:\n",
    "        clust = data.clusters(mode='weak')\n",
    "\n",
    "    return clust.giant()\n",
    "\n",
    "\n",
    "def getPaths(ig, isDirected=True):\n",
    "    if (isDirected):\n",
    "        return np.array(ig.shortest_paths())\n",
    "    else:\n",
    "        return np.array(ig.shortest_paths(mode='all'))"
   ]
  },
  {
   "cell_type": "code",
   "execution_count": 3,
   "metadata": {
    "collapsed": false
   },
   "outputs": [
    {
     "name": "stdout",
     "output_type": "stream",
     "text": [
      "nodes of lcc:  1300\n",
      "edges of lcc:  39456\n",
      "median distance:  3.0\n",
      "mean distance:  2.87706804734\n",
      "diameter:  9\n",
      "effective diameter:  4.0\n"
     ]
    }
   ],
   "source": [
    "lcc = getLcc('data/wiki-Vote.txt')\n",
    "print(\"nodes of lcc: \", lcc.vcount())\n",
    "print(\"edges of lcc: \", lcc.ecount())\n",
    "\n",
    "paths = getPaths(lcc)\n",
    "print(\"median distance: \", np.median(paths))\n",
    "print(\"mean distance: \", np.average(paths))\n",
    "print(\"diameter: \", np.max(paths))\n",
    "print(\"effective diameter: \", np.percentile(paths, 90))"
   ]
  },
  {
   "cell_type": "code",
   "execution_count": 4,
   "metadata": {
    "collapsed": false
   },
   "outputs": [
    {
     "name": "stdout",
     "output_type": "stream",
     "text": [
      "0.9996558197724535\n",
      "0.9963934480099572\n",
      "1.0053656259373343\n",
      "0.9937779799589113\n",
      "0.9938238377584677\n",
      "1.0009897874456124\n",
      "0.9939155563073244\n",
      "0.9984146072973453\n",
      "1.003245657197983\n",
      "1.0021864776668332\n"
     ]
    }
   ],
   "source": [
    "import random\n",
    "for j in range(10):\n",
    "    hll = HyperLogLog(16) # use 2^16 registers\n",
    "    for i in range(100000):\n",
    "        hll.add(str(random.random()))\n",
    "    print(100000/hll.cardinality()) # ~4% err"
   ]
  },
  {
   "cell_type": "code",
   "execution_count": 5,
   "metadata": {
    "collapsed": false
   },
   "outputs": [
    {
     "name": "stdout",
     "output_type": "stream",
     "text": [
      "201784.0456392771\n",
      "201287.67758546027\n",
      "300308.9220856516\n"
     ]
    }
   ],
   "source": [
    "hll1 = HyperLogLog(16)\n",
    "hll2 = HyperLogLog(16)\n",
    "for i in range(100000):\n",
    "    hll1.add(str(random.random()))\n",
    "for i in range(100000):\n",
    "    hll2.add(str(random.random()))\n",
    "for i in range(100000):\n",
    "    r = str(random.random())\n",
    "    hll1.add(r)\n",
    "    hll2.add(r)\n",
    "\n",
    "print(hll1.cardinality())\n",
    "print(hll2.cardinality())\n",
    "\n",
    "hll1.merge(hll2)\n",
    "print(hll1.cardinality())"
   ]
  },
  {
   "cell_type": "code",
   "execution_count": 6,
   "metadata": {
    "collapsed": true
   },
   "outputs": [],
   "source": [
    "def ANF(lcc, n_bucket_bits=5, mode='ALL'):\n",
    "    \"\"\"mode=IN/OUT/ALL\"\"\"\n",
    "    chain = [0]\n",
    "    vset = list()\n",
    "    vset2 = list()\n",
    "    for v in lcc.vs:\n",
    "        hll = HyperLogLog(n_bucket_bits)\n",
    "        hll.add(str(v.index))\n",
    "        vset.append(hll)\n",
    "        \n",
    "        hll = HyperLogLog(n_bucket_bits)\n",
    "        vset2.append(hll)\n",
    "\n",
    "    for _iter in range(1, lcc.vcount()):\n",
    "        for v in lcc.vs:\n",
    "        #for v in tqdm(lcc.vs):\n",
    "            vi = v.index\n",
    "            vset2[vi].merge(vset[vi])\n",
    "            for vn in v.neighbors(mode=mode): # mode=IN/OUT/ALL\n",
    "                vni = vn.index\n",
    "                vset2[vi].merge(vset[vni])\n",
    "        vset, vset2 = vset2, vset\n",
    "\n",
    "        k_deg_paths = sum([hll.cardinality() for hll in vset])\n",
    "        k_deg_paths -= sum(chain)\n",
    "        chain.append(k_deg_paths)\n",
    "\n",
    "        # terminal point\n",
    "        print('iteration: {}'.format(_iter))\n",
    "        #if sum(chain) > lcc.vcount()**2 * 0.9:\n",
    "        if chain[-1] < 1e-9:\n",
    "            break\n",
    "    \n",
    "    return [i/2 for i in chain]"
   ]
  },
  {
   "cell_type": "code",
   "execution_count": 10,
   "metadata": {
    "collapsed": true
   },
   "outputs": [],
   "source": [
    "def percentile(chain, p):\n",
    "    s = sum(chain)\n",
    "    cur = 0\n",
    "    for i in range(1, len(chain)):\n",
    "        cur += chain[i]\n",
    "        if cur / s >= p:\n",
    "            return i"
   ]
  },
  {
   "cell_type": "code",
   "execution_count": 11,
   "metadata": {
    "collapsed": false
   },
   "outputs": [
    {
     "name": "stdout",
     "output_type": "stream",
     "text": [
      "iteration: 1\n",
      "iteration: 2\n",
      "iteration: 3\n",
      "iteration: 4\n",
      "iteration: 5\n",
      "iteration: 6\n",
      "iteration: 7\n",
      "iteration: 8\n",
      "iteration: 9\n",
      "iteration: 10\n",
      "CPU times: user 679 ms, sys: 11.4 ms, total: 690 ms\n",
      "Wall time: 796 ms\n",
      "[0.0, 20391.572424914935, 228412.24650651717, 372984.9754629431, 145744.0276978946, 24918.929126088507, 2806.632742370828, 692.2283045685617, 388.5110832309583, 94.74496624909807, 0.0]\n",
      "median distance:  3\n",
      "mean distance:  2.9247725754380407\n",
      "diameter:  10\n",
      "effective diameter:  4\n"
     ]
    }
   ],
   "source": [
    "%time chain = ANF(lcc, n_bucket_bits=6, mode='OUT')\n",
    "print(chain)\n",
    "print(\"median distance: \", percentile(chain, 0.5))\n",
    "print(\"mean distance: \", sum([i*n for i,n in enumerate(chain)]) / sum(chain))\n",
    "print(\"diameter: \", len(chain)-1)\n",
    "print(\"effective diameter: \", percentile(chain, 0.9))"
   ]
  }
 ],
 "metadata": {
  "anaconda-cloud": {},
  "kernelspec": {
   "display_name": "Python [default]",
   "language": "python",
   "name": "python3"
  },
  "language_info": {
   "codemirror_mode": {
    "name": "ipython",
    "version": 3
   },
   "file_extension": ".py",
   "mimetype": "text/x-python",
   "name": "python",
   "nbconvert_exporter": "python",
   "pygments_lexer": "ipython3",
   "version": "3.5.2"
  }
 },
 "nbformat": 4,
 "nbformat_minor": 1
}
